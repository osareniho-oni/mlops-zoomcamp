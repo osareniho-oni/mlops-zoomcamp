{
 "cells": [
  {
   "cell_type": "code",
   "execution_count": 10,
   "id": "54eabd22",
   "metadata": {},
   "outputs": [],
   "source": [
    "import pickle\n",
    "import pandas as pd"
   ]
  },
  {
   "cell_type": "code",
   "execution_count": 11,
   "id": "99586625",
   "metadata": {},
   "outputs": [],
   "source": [
    "year = 2023\n",
    "month = 3\n",
    "taxi_type = 'yellow'\n",
    "\n",
    "input_file = f'data/{taxi_type}_tripdata_{year:04d}-{month:02d}.parquet'\n",
    "output_file = f'output/{taxi_type}/{year:04d}-{month:02d}.parquet'"
   ]
  },
  {
   "cell_type": "code",
   "execution_count": 12,
   "id": "abee5316",
   "metadata": {},
   "outputs": [],
   "source": [
    "def read_dataframe(filename: str):\n",
    "    df = pd.read_parquet(filename)\n",
    "\n",
    "    df['duration'] = df.tpep_dropoff_datetime - df.tpep_pickup_datetime\n",
    "    df.duration = df.duration.dt.total_seconds() / 60\n",
    "    df = df[(df.duration >= 1) & (df.duration <= 60)]\n",
    "    \n",
    "    df['ride_id'] = f'{year:04d}/{month:02d}_' + df.index.astype('str')\n",
    "\n",
    "    return df\n",
    "\n",
    "\n",
    "def prepare_dictionaries(df: pd.DataFrame):\n",
    "    categorical = ['PULocationID', 'DOLocationID']\n",
    "    df[categorical] = df[categorical].astype(str)\n",
    "    \n",
    "    dicts = df[categorical].to_dict(orient='records')\n",
    "    \n",
    "    return dicts\n",
    "\n",
    "\n",
    "def apply_model(input_file, output_file):\n",
    "\n",
    "    df = read_dataframe(input_file)\n",
    "    dicts = prepare_dictionaries(df)\n",
    "\n",
    "    # Load saved model\n",
    "    with open('model.bin', 'rb') as f_in:\n",
    "        dv, model = pickle.load(f_in)\n",
    "\n",
    "    # Feature matrix\n",
    "    X = dv.transform(dicts)\n",
    "\n",
    "    y_pred = model.predict(X)\n",
    "\n",
    "    df_result = pd.DataFrame()\n",
    "    df_result['ride_id'] = df['ride_id']\n",
    "    df_result['predicted_duration'] = y_pred\n",
    "    # df_result['tpep_pickup_datetime'] = df['tpep_pickup_datetime']\n",
    "    # df_result['PULocationID'] = df['PULocationID']\n",
    "    # df_result['DOLocationID'] = df['DOLocationID']\n",
    "    # df_result['actual_duration'] = df['duration']\n",
    "    # df_result['diff'] = df_result['actual_duration'] - df_result['predicted_duration']\n",
    "    \n",
    "    df_result.to_parquet(\n",
    "        output_file,\n",
    "        engine='pyarrow',\n",
    "        compression=None,\n",
    "        index=False\n",
    "    )"
   ]
  },
  {
   "cell_type": "code",
   "execution_count": 13,
   "id": "f86a7191",
   "metadata": {},
   "outputs": [],
   "source": [
    "# !mkdir output"
   ]
  },
  {
   "cell_type": "code",
   "execution_count": 14,
   "id": "2e91a751",
   "metadata": {},
   "outputs": [],
   "source": [
    "apply_model(input_file=input_file, output_file=output_file)"
   ]
  },
  {
   "cell_type": "code",
   "execution_count": 15,
   "id": "20fb529c",
   "metadata": {},
   "outputs": [
    {
     "name": "stderr",
     "output_type": "stream",
     "text": [
      "'ls' is not recognized as an internal or external command,\n",
      "operable program or batch file.\n"
     ]
    }
   ],
   "source": [
    "!ls output/yellow/"
   ]
  }
 ],
 "metadata": {
  "kernelspec": {
   "display_name": "Python 3 (ipykernel)",
   "language": "python",
   "name": "python3"
  },
  "language_info": {
   "codemirror_mode": {
    "name": "ipython",
    "version": 3
   },
   "file_extension": ".py",
   "mimetype": "text/x-python",
   "name": "python",
   "nbconvert_exporter": "python",
   "pygments_lexer": "ipython3",
   "version": "3.11.5"
  }
 },
 "nbformat": 4,
 "nbformat_minor": 5
}
